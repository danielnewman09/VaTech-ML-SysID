{
 "cells": [
  {
   "cell_type": "markdown",
   "metadata": {},
   "source": [
    "<h1>Modeling of a Catheter <br>for Cardiac Ablation</h1>\n",
    "<p>Daniel Newman <br>\n",
    "<a href=\"mailto:danielnewman09@gmail.com\">danielnewman09@gmail.com</a> <br>\n",
    "<a href=\"http://danielnewman09.github.io\">http://danielnewman09.github.io</a> <br>"
   ]
  },
  {
   "cell_type": "markdown",
   "metadata": {},
   "source": [
    "<h2 id=\"Creating-the-Full-Model\">Creating the Full Model</h2>\n",
    "<img src=\"https://cdn.rawgit.com/danielnewman09/Catheter-Ablation/master/manuscript/Figures/Planar_Model.svg\" align=\"middle\">\n",
    "<p style=\"text-align:center;\"><strong>Figure 1: Dynamic model of a two link flexible-arm manipulator</strong></p><br>\n",
    "\n",
    "The dynamic model used in this analysis is shown in Fig. 1. A flexible beam is assumed to be fixed at its base. The rotation of each element about the $\\bar{Z}$-axis is designated by $\\theta_{i}$, where $i$ is the element number. As depicted in this Figure, each rotation is defined relative to the global coordinate frame. The generalized coordinates are arranged in the following form:\n",
    "\n",
    "\\begin{equation}\n",
    "Q_{n \\times 1} = \n",
    "\\begin{bmatrix}\n",
    " \\theta_{1} & \n",
    " \\theta_{2} &\n",
    " \\dots & \n",
    " \\theta_{n} & \n",
    "\\end{bmatrix}^T.\n",
    "\\end{equation}\n",
    "\n",
    "<h3 id=\"System-Inputs\">System Inputs</h3>\n",
    "\n",
    "The input to the system is given as force applied to the distal tip of the $n^{th}$ element, $f$. In addition, a known velocity field, $\\vec{U}$, exerts drag forces on each element. These drag forces generate moments at each hinge, causing deflection of the catheter. These moments are given by:\n",
    "\n",
    "\\begin{equation}\n",
    "\\vec{\\gamma}_{n} = \\int_{0}^{l_n} \\vec{r}_n(x) \\times \\vec{f}_n(x) \\mathrm{d}x,\n",
    "\\end{equation}\n",
    "\n",
    "where:\n",
    "\n",
    "\\begin{equation}\n",
    "\\vec{r}(x)_n = x \\mathbf{\\hat{i}_n} + 0 \\mathbf{\\hat{j}_n} + \\mathbf{\\hat{k}_n},\n",
    "\\end{equation}\n",
    "\n",
    "is a displacement vector pointing from the element origin to a point along its length, $\\vec{f}_n(x)$ is the location-dependent force vector due to hemodynamic forces, and $\\vec{\\gamma}_{n}$, is the resultant torque acting at the element origin. \n",
    "\n",
    "The drag induced by hemodynamic flow is:\n",
    "\n",
    "\\begin{equation}\n",
    "\\vec{f}_n(x,t) = \\frac{1}{2}\\rho C_d D \n",
    "\\begin{bmatrix}\n",
    "\\cos{\\theta_n} & -\\sin{\\theta_n} \\\\\n",
    "\\sin{\\theta_n} & \\cos{\\theta_n}\n",
    "\\end{bmatrix}\n",
    "\\vec{U}(x,t),\n",
    "\\end{equation}\n",
    "\n",
    "where $\\rho$ is the mass density of blood, $C_d$ is the drag coefficient of the catheter, $D$ is the diameter of its cross-section, and $\\vec{U}(x)$ is the flow field, given in the inertial coordinate frame. Note that this model ignores wall shear. The resulting total exogenous input is therefore given by:\n",
    "\n",
    "\\begin{equation}\n",
    "\\Gamma_{n \\times 1} = \n",
    "\\begin{bmatrix}\n",
    "\\gamma_{2} &  \n",
    "\\dots & \n",
    "\\gamma_{n-1} & \n",
    "\\gamma_{n}\n",
    "\\end{bmatrix}^T,\n",
    "\\end{equation}\n",
    "\n",
    "where the torque applied to the first element is ignored due to the fixed boundary condition.\n",
    "\n",
    "<h3 id=\"Internal-Moments\">Internal Moments</h3>\n",
    "\n",
    "Each generalized coordinate also has an associated internal moment based on its material properties. The internal bending moment for each element is given by:\n",
    "\n",
    "\\begin{equation}\n",
    "\\begin{aligned}\n",
    "M_{n} &= \\frac{EI (\\theta_{n} - \\theta_{n-1})}{l_n + l_{n-1}}, \\\\\n",
    "\\end{aligned}\n",
    "\\end{equation}\n",
    "\n",
    "These moments are found by discretizing standard Euler-Bernoulli beam theory. \n",
    "\n",
    "<h3 id=\"Equations-of-Motion\">Equations of Motion</h3>\n",
    "\n",
    "The resulting equations of motion were created by Kane's method using the Python SymPy module. When linearized about $Q=\\dot{Q}=0$, the state-space representation of the dynamic system is given by:\n",
    "\n",
    "\\begin{equation}\n",
    "\\label{eq:eqmotion}\n",
    "\\begin{bmatrix}\n",
    " \\dot{Q}\\\\\n",
    " \\ddot{Q}\n",
    "\\end{bmatrix} =\n",
    "A\n",
    "\\begin{bmatrix}\n",
    " Q\\\\\n",
    " \\dot{Q}\n",
    "\\end{bmatrix}\n",
    "+\n",
    "B f_{in}\n",
    "+\n",
    "\\Omega \\Gamma\n",
    "\\end{equation}\n",
    "\n",
    "where $A$ and $B$ are the linearized state transition and input matrices, and $\\Omega$ is the disturbance input matrix.  \n",
    "\n",
    "Because \\eqref{eq:eqmotion} is linearized, it will degrade in performance at large tip deflections. This degradation is increased due to the use of Euler-Bernoulli beam theory, which is strictly valid for small deflections. However, this model serves as a foundation from which dynamic and control properties can be evaluated."
   ]
  },
  {
   "cell_type": "markdown",
   "metadata": {},
   "source": [
    "<h2 id=\"Sympy-Deriv\">Using SymPy to create the full equations of motion</h2>\n",
    "\n",
    "The following Python code can be used to create the equations of motion via Kane's method. \n"
   ]
  },
  {
   "cell_type": "markdown",
   "metadata": {},
   "source": [
    "<h3 id=\"Import-Python-Libraries\">Import Python Libraries</h3>\n",
    "\n",
    "We first need to start by importing all relevant Python libraries."
   ]
  },
  {
   "cell_type": "code",
   "execution_count": 1,
   "metadata": {},
   "outputs": [],
   "source": [
    "# Sympy libraries to symbolically create system models\n",
    "from sympy import symbols\n",
    "from sympy.physics import mechanics\n",
    "from sympy.physics.mechanics import dynamicsymbols\n",
    "import sympy.physics.mechanics as me\n",
    "from sympy.physics.mechanics import inertia\n",
    "from sympy import Dummy, lambdify\n",
    "from sympy import Matrix\n",
    "\n",
    "# Scipy libraries to optimize and integrate\n",
    "from scipy import integrate\n",
    "from scipy.integrate import odeint\n",
    "from scipy.optimize import minimize\n",
    "\n",
    "# Numpy library to perform computational heavy lifting\n",
    "import numpy as np\n",
    "\n",
    "# Crawlab plotting toolbox to generate nice plots\n",
    "# import crawlab_toolbox.plotting as plot\n",
    "\n",
    "from matplotlib.animation import writers\n",
    "from matplotlib import animation, rc\n",
    "from matplotlib import pyplot as plt\n",
    "import matplotlib as mpl\n",
    "\n",
    "# Ignore warnings\n",
    "import warnings\n",
    "warnings.filterwarnings(\"ignore\")\n",
    "\n",
    "from IPython.core.display import HTML"
   ]
  },
  {
   "cell_type": "code",
   "execution_count": 48,
   "metadata": {},
   "outputs": [],
   "source": [
    "def derive_sys(n,p):\n",
    "    \"\"\"Derive the equations of motion using Kane's method\"\"\"\n",
    "    #-------------------------------------------------\n",
    "    # Step 1: construct the catheter model\n",
    "    \n",
    "    # Generalized coordinates and velocities\n",
    "    # (in this case, angular positions & velocities of each mass) \n",
    "    q = mechanics.dynamicsymbols('q:{0}'.format(n))\n",
    "    u = mechanics.dynamicsymbols('u:{0}'.format(n))\n",
    "    \n",
    "    # Torques applied to each element due to external loads\n",
    "    Torque = dynamicsymbols('tau:{0}'.format(n))\n",
    "    \n",
    "    # Force applied at the end of the catheter by the user\n",
    "    F_in = dynamicsymbols('F:{0}'.format(1))\n",
    "\n",
    "    # Unpack the system values\n",
    "    M, L, E, I = p\n",
    "    \n",
    "    # Structural damping \n",
    "    damp = 1e-5\n",
    "\n",
    "    lengths = np.concatenate([np.broadcast_to(L / n,n)])    \n",
    "    masses = np.concatenate([np.broadcast_to(M / n,n)])\n",
    "\n",
    "    # time symbol\n",
    "    t = symbols('t')\n",
    "    \n",
    "    # The stiffness of the internal springs simulating material stiffness\n",
    "    stiffness = E * I\n",
    "    \n",
    "    #--------------------------------------------------\n",
    "    # Step 2: build the model using Kane's Method\n",
    "\n",
    "    # Create pivot point reference frame\n",
    "    A = mechanics.ReferenceFrame('A')\n",
    "    P = mechanics.Point('P')\n",
    "    P.set_vel(A,0)\n",
    "\n",
    "    # lists to hold particles, forces, and kinetic ODEs\n",
    "    # for each pendulum in the chain\n",
    "    particles = []\n",
    "    forces = []\n",
    "    kinetic_odes = []\n",
    "    \n",
    "    # Create a rotated reference frame for the first rigid link\n",
    "    Ar = A.orientnew('A' + str(0), 'axis', [q[0],A.z])\n",
    "\n",
    "    # Create a point at the center of gravity of the first link\n",
    "    Gr = P.locatenew('G' + str(0),(lengths[0] / 2) * Ar.x)\n",
    "    Gr.v2pt_theory(P,A,Ar)\n",
    "    \n",
    "    # Create a point at the end of the link\n",
    "    Pr = P.locatenew('P' + str(0), lengths[0] * Ar.x)\n",
    "    Pr.v2pt_theory(P, A, Ar)   \n",
    "\n",
    "    # Create the inertia for the first rigid link\n",
    "    Inertia_r = inertia(Ar,0,0,masses[0] * lengths[0]**2 / 12)\n",
    "\n",
    "    # Create a new particle of mass m[i] at this point\n",
    "    Par = mechanics.RigidBody('Pa' + str(0), Gr, Ar, masses[0], (Inertia_r,Gr))\n",
    "    particles.append(Par)\n",
    "    \n",
    "    # Add an internal spring based on Euler-Bernoulli Beam theory\n",
    "    forces.append((Ar, -stiffness * (q[0]) / (lengths[0]) * Ar.z))\n",
    "    \n",
    "    # Add a damping term\n",
    "    forces.append((Ar, (-damp * u[0]) * Ar.z))\n",
    "\n",
    "    #next_torque = 0\n",
    "    #for j in range(0,n):\n",
    "    #    next_torque += Torque[j]\n",
    "    #else:\n",
    "    #    next_torque = 0.\n",
    "    #forces.append((Ar,(Torque[0] + next_torque) * Ar.z))\n",
    "\n",
    "\n",
    "    # Add a new ODE term\n",
    "    kinetic_odes.append(q[0].diff(t) - u[0])\n",
    "    \n",
    "    P = Pr\n",
    "    \n",
    "    for i in range(1,n):\n",
    "        \n",
    "        # Create a reference frame following the i^th link\n",
    "        Ai = A.orientnew('A' + str(i), 'Axis', [q[i],A.z])\n",
    "        Ai.set_ang_vel(A, u[i] * Ai.z)\n",
    "        \n",
    "        # Set the center of gravity for this link\n",
    "        Gi = P.locatenew('G' + str(i),lengths[i] / 2 * Ai.x)\n",
    "        Gi.v2pt_theory(P,A,Ai)\n",
    "\n",
    "        # Create a point in this reference frame\n",
    "        Pi = P.locatenew('P' + str(i), lengths[i] * Ai.x)\n",
    "        Pi.v2pt_theory(P, A, Ai)\n",
    "        \n",
    "        # Set the inertia for this link\n",
    "        Inertia_i = inertia(Ai,0,0,masses[i] * lengths[i]**2 / 12)\n",
    "\n",
    "        # Create a new particle of mass m[i] at this point\n",
    "        Pai = mechanics.RigidBody('Pa' + str(i), Gi, Ai, masses[i], (Inertia_i,Gi))\n",
    "        particles.append(Pai)\n",
    "        \n",
    "        # The external torques influence neighboring links\n",
    "        if i + 1 < n:\n",
    "            next_torque = 0\n",
    "            for j in range(i,n):\n",
    "                next_torque += Torque[j]\n",
    "        else:\n",
    "            next_torque = 0.\n",
    "        forces.append((Ai,(Torque[i] + next_torque) * Ai.z))\n",
    "        \n",
    "        # Add another internal spring\n",
    "        forces.append((Ai, (-stiffness * (q[i] - q[i-1]) / (2 * lengths[i])) * Ai.z))\n",
    "        \n",
    "        # Add the damping term\n",
    "        forces.append((Ai, (-damp * u[i]) * Ai.z))\n",
    "\n",
    "        kinetic_odes.append(q[i].diff(t) - u[i])\n",
    "\n",
    "        P = Pi\n",
    "    \n",
    "    # Add the user-defined input at the tip of the catheter, pointing normal to the \n",
    "    # last element\n",
    "    forces.append((P, F_in[0] * Ai.y))\n",
    "\n",
    "    # Generate equations of motion\n",
    "    KM = mechanics.KanesMethod(A, q_ind=q, u_ind=u,\n",
    "                               kd_eqs=kinetic_odes)\n",
    "    fr, fr_star = KM.kanes_equations( particles, forces)\n",
    "\n",
    "    return KM, fr, fr_star, q, u, Torque, F_in, lengths, masses"
   ]
  },
  {
   "cell_type": "markdown",
   "metadata": {},
   "source": [
    "<h3 id=\"Create-Numerical-Functions\">Create Numerical Functions</h3>\n",
    "\n",
    "With the symbolic equations of motion, we should create functions which can numerically capture the dynamics."
   ]
  },
  {
   "cell_type": "code",
   "execution_count": 49,
   "metadata": {},
   "outputs": [],
   "source": [
    "def parameterize(n,kane):\n",
    "    \"\"\"\n",
    "    Parameterize the symbolic equations of motion so that they can be integrated \n",
    "    \n",
    "    Inputs:\n",
    "        n - number of elements\n",
    "        kane - full nonlinear equations of motion\n",
    "\n",
    "    Outputs: \n",
    "        mm_func - mass matrix function\n",
    "        fo_func - forcing matrix function\n",
    "    \"\"\"\n",
    "\n",
    "    # Unpack the kanes method parameters\n",
    "    KM, fr, fr_star, q, u, tau, force_in, lengths, masses = kane\n",
    "\n",
    "    \n",
    "    # define symbols for unknown parameters\n",
    "    unknowns = [Dummy() for i in q + u + tau + list(force_in)]\n",
    "    unknown_dict = dict(zip(q + u + tau + list(force_in), unknowns))\n",
    "    kds = KM.kindiffdict()\n",
    "\n",
    "    # substitute unknown symbols for qdot terms\n",
    "    mm_sym = KM.mass_matrix_full.subs(kds).subs(unknown_dict)\n",
    "    fo_sym = KM.forcing_full.subs(kds).subs(unknown_dict)\n",
    "\n",
    "    # create functions for numerical calculation \n",
    "    mm_func = lambdify(unknowns, mm_sym)\n",
    "    fo_func = lambdify(unknowns, fo_sym)\n",
    "\n",
    "    return mm_func,fo_func\n",
    "    "
   ]
  },
  {
   "cell_type": "markdown",
   "metadata": {},
   "source": [
    "<h3 id=\"Linearizing-the-Equations-of-Motion\">Linearizing the Equations of Motion</h3>\n",
    "\n",
    "The following python code can be used to linearize the equations of motion"
   ]
  },
  {
   "cell_type": "code",
   "execution_count": 50,
   "metadata": {},
   "outputs": [],
   "source": [
    "def linearize_system(n,kane):\n",
    "    \"\"\"\n",
    "    Take the previously derived equations of motion and create an LTI model\n",
    "    \n",
    "    Inputs:\n",
    "        n - number of elements\n",
    "        kane - full nonlinear equations of motion\n",
    "        p - packed parameters (must have values)\n",
    "    \n",
    "    Outputs:\n",
    "        A_np - Linearized A matrix as a numpy array\n",
    "        B_np - Linearized B matrix as a numpy array\n",
    "    \"\"\"\n",
    "\n",
    "    # Unpack the kanes method parameters\n",
    "    KM, fr, fr_star, q, u, Torque, F_in, lengths, masses = kane\n",
    "\n",
    "    # Linearize the Kane's method equations\n",
    "    linearizer = KM.to_linearizer()\n",
    "    \n",
    "    # Output the A, B, and Mass matrices\n",
    "    Maz, A, B = linearizer.linearize()\n",
    "    \n",
    "    # Create an operating point around which we will linearize\n",
    "    op_point = dict()\n",
    "\n",
    "    # we will linearize about the undeflected, stationary point\n",
    "    for h in range(n):\n",
    "        op_point[q[h]] = 0.0\n",
    "        op_point[u[h]] = 0.0\n",
    "    \n",
    "    # Perform substitutions to solve for the linearized matrices\n",
    "    M_op = me.msubs(Maz, op_point)\n",
    "    A_op = me.msubs(A, op_point)\n",
    "    B_op = me.msubs(B, op_point)\n",
    "    perm_mat = linearizer.perm_mat\n",
    "\n",
    "    # Solve for the linear A and B matrices\n",
    "    A_lin = perm_mat.T * M_op.LUsolve(A_op)\n",
    "    B_lin = perm_mat.T * M_op.LUsolve(B_op)\n",
    "    A_sol = A_lin.subs(op_point).doit()\n",
    "    B_sol = B_lin.subs(op_point).doit()\n",
    "\n",
    "    # Ensure the matrices are of the correct data type\n",
    "    A_np = np.array(np.array(A_sol), np.float)\n",
    "    B_np = np.array(np.array(B_sol), np.float)\n",
    "\n",
    "    return A_np,B_np"
   ]
  },
  {
   "cell_type": "markdown",
   "metadata": {},
   "source": [
    "<h2 id=\"Derive-the-Tip-Output\">Derive the Tip Output</h2>\n",
    "\n",
    "In order to understand how a controller works for this system, we need to have an understanding of how the tip of the catheter is moving. These python functions can provide that information."
   ]
  },
  {
   "cell_type": "code",
   "execution_count": 51,
   "metadata": {},
   "outputs": [],
   "source": [
    "def body_rotation(coords,angle):\n",
    "    \"\"\"\n",
    "    Rotate a body in a two-dimensional coordinate frame\n",
    "    \n",
    "    Inputs:\n",
    "        coords - [2xn] array of coordinates in the current frame\n",
    "        angle - [1xn] array of angles about which the frame is rotated\n",
    "    \n",
    "    Outputs:\n",
    "        x - X-coordinate in the rotated frame\n",
    "        y - Y-coordinate in the rotated frame\n",
    "    \"\"\"\n",
    "    \n",
    "    # Rotation about the z-axis\n",
    "    def R_z(theta):\n",
    "        rotation = np.zeros([len(theta),2,2])\n",
    "        rotation[:,0,0] = np.cos(theta)\n",
    "        rotation[:,0,1] = -np.sin(theta)\n",
    "        rotation[:,1,0] = np.sin(theta)\n",
    "        rotation[:,1,1] = np.cos(theta)\n",
    "        return rotation\n",
    "    \n",
    "    # Perform the rotation\n",
    "    rotated_coords = np.matmul(R_z(angle[:]), coords)\n",
    "    \n",
    "    # Extract the x and y coordinates\n",
    "    x = rotated_coords[:,0,0]\n",
    "    y = rotated_coords[:,1,0]\n",
    "\n",
    "    return x,y\n",
    "\n",
    "\n",
    "def get_xy_coords(n,q, lengths):\n",
    "    \"\"\"\n",
    "    Get (x, y) coordinates of the beam from generalized coordinates q\n",
    "    \n",
    "    Inputs:\n",
    "        n - number of elements\n",
    "        q - generalized coordinates\n",
    "        lengths - length of each element\n",
    "    \n",
    "    Outputs:\n",
    "        x_coords - X-coordinates of each beam element\n",
    "        y_coords - Y-coordinates of each beam element\n",
    "    \"\"\"\n",
    "    \n",
    "    q = np.atleast_2d(q)\n",
    "\n",
    "    zeros = np.zeros(q.shape[0])[:, None]\n",
    "\n",
    "    x = np.hstack([zeros])\n",
    "    y = np.hstack([zeros])\n",
    "\n",
    "    for i in range(0,n):\n",
    "        \n",
    "        # Get the new x and y coordinates to append \n",
    "        x_app,y_app = body_rotation(np.array([[lengths[i]],[0]]),q[:,i])\n",
    "        \n",
    "        # Append to the matrices\n",
    "        x = np.append(x,np.atleast_2d(x_app).T,axis=1)\n",
    "        y = np.append(y,np.atleast_2d(y_app).T,axis=1)\n",
    "    \n",
    "    x_coords = np.cumsum(x,1)\n",
    "    y_coords = np.cumsum(y,1) \n",
    "\n",
    "    return x_coords, y_coords\n",
    "\n",
    "def get_xy_deriv(n,q, lengths):\n",
    "    \"\"\"\n",
    "    Get (x_dot, y_dot) coordinates from generalized coordinates q\n",
    "\n",
    "    Inputs:\n",
    "        n - number of elements\n",
    "        q - generalized coordinates\n",
    "        lengths - length of each element\n",
    "    \n",
    "    Outputs:\n",
    "        x_dot_coords - X_dot-coordinates of each beam element\n",
    "        y_dot_coords - Y_dot-coordinates of each beam element\n",
    "    \n",
    "    \"\"\"\n",
    "    \n",
    "    q = np.atleast_2d(q)\n",
    "\n",
    "    zeros = np.zeros(q.shape[0])[:, None]\n",
    "    x_dot = np.hstack([zeros])\n",
    "    y_dot = np.hstack([zeros])\n",
    "\n",
    "    # Do this for each element\n",
    "    for i in range(0,n):\n",
    "    \n",
    "        # Get the new x_dot and y_dot coordinates to append\n",
    "        x_app = -lengths[i] * np.sin(q[:,i]) * q[:,i + (n)]\n",
    "        y_app = lengths[i] * np.cos(q[:,i]) * q[:,i + (n)]\n",
    "        \n",
    "        x_dot = np.append(x_dot,np.atleast_2d(x_app).T,axis=1)\n",
    "        y_dot = np.append(y_dot,np.atleast_2d(y_app).T,axis=1)\n",
    "\n",
    "    x_dot_coords = np.cumsum(x_dot,1)\n",
    "    y_dot_coords=  np.cumsum(y_dot,1)\n",
    " \n",
    "    return x_dot_coords,y_dot_coords"
   ]
  },
  {
   "cell_type": "markdown",
   "metadata": {},
   "source": [
    "<h2 id=\"Create-an-External-Disturbance\">Create an External Disturbance</h2>\n",
    "\n",
    "Now, let's create an external disturbance on the catheter. For now, let's assume a uniform, periodic flow field."
   ]
  },
  {
   "cell_type": "code",
   "execution_count": 52,
   "metadata": {},
   "outputs": [],
   "source": [
    "def force(coords,r,time):\n",
    "    ''' \n",
    "    Get the force resulting from flow on a cylinder in two dimensions\n",
    "    \n",
    "    Inputs:\n",
    "        Coords - location of the current element in the global coordinate frame\n",
    "        r - displacement vector from the origin of the element\n",
    "        time - current time \n",
    "    \n",
    "    Outputs:\n",
    "        F - [2x1] array containing X and Y forces in the reference coordinate frame\n",
    "    '''\n",
    "    \n",
    "    # Maximum velocity of the flow field in m/s\n",
    "    flow_amp = 0.00\n",
    "    \n",
    "    # Flow field velocity\n",
    "    u_y = flow_amp * np.cos(1. * np.pi * time) + flow_amp # m/s\n",
    "    \n",
    "    #  Drag coefficient\n",
    "    Cd = 1.2 \n",
    "    \n",
    "    # Mass density of blood\n",
    "    rho_blood = 1060 # kg/m^3\n",
    "    \n",
    "    # Diameter of the catheter\n",
    "    Diam = 2.667e-3 # m\n",
    "    \n",
    "    # Length projected into the X-axis\n",
    "    projected_length = r[0]\n",
    "    \n",
    "    # Drag force\n",
    "    F_dy = 0.5 * u_y * rho_blood * Cd * Diam * projected_length\n",
    "    \n",
    "    # Ignoring forces in the x-direction for now\n",
    "    f_x = 0.\n",
    "\n",
    "    return np.array([[f_x],[F_dy]])\n",
    "\n",
    "def get_forces(n,q,lengths,time=0.):\n",
    "    \"\"\"\n",
    "    Get the resulting torques acting on the catheter at this instant in time\n",
    "    \n",
    "    Inputs:\n",
    "        n - number of elments\n",
    "        q - generalized coordinates\n",
    "        lengths - lengths of each elements\n",
    "        time - current time in the simulation\n",
    "    \n",
    "    Outputs:\n",
    "        tau - torques along each hinge in the Z direction\n",
    "    \"\"\"\n",
    "    \n",
    "    # Get the x and y coordinates of the beam\n",
    "    x,y = get_xy_coords(n,q,lengths)\n",
    "\n",
    "    # For each origin point of each link, integrate the cross product of the \n",
    "    # position vector for the link with the  force converted into the link frame.\n",
    "    # Return the torques in a way that can be added to the state variables when\n",
    "    # integrating\n",
    "\n",
    "    tau = np.zeros(n)\n",
    "    \n",
    "    # for each element\n",
    "    for i in range(0,n):\n",
    "        \n",
    "        # Get the displacement of this element\n",
    "        angles = np.atleast_2d(q[i])\n",
    "        \n",
    "        # Because we want to rotate from the global coordinate frame into \n",
    "        # the local frame for each element, we will use the negative rotation\n",
    "        # angle in our calculations\n",
    "        angles = -angles\n",
    "\n",
    "        frame_origin = np.array([[x[0,i]],\n",
    "                                 [y[0,i]]])\n",
    "\n",
    "        # Direction vector pointing along the X-direction of the desired link\n",
    "        # This vector is defined in the global coordinate frame\n",
    "        r = np.array([[x[0,i] - x[0,i-1]],\n",
    "                      [y[0,i] - y[0,i-1]]])\n",
    "\n",
    "        # Unit vector pointing in the direction aligned with the link\n",
    "        # This vector is divided by L, which is the magnitude of r\n",
    "        u = r / lengths[i]\n",
    "        \n",
    "        # Get the projected force on the element at position \"x\"\n",
    "        proj_force = lambda x: np.array([foo[0] for foo in body_rotation(force(x * u + frame_origin,r,time),angles)])\n",
    "        \n",
    "        # Compute the torque applied by the force at position \"x\"\n",
    "        torquez = lambda x: np.cross(np.array([x,0]),np.array(list(proj_force(x))).flatten())\n",
    "   \n",
    "        # The total torque applied to the element is the integral of the torque\n",
    "        # across its length\n",
    "        torques = np.array([integrate.quad(torquez,0,lengths[i])[0]])\n",
    "\n",
    "        tau[i] = torques\n",
    "        \n",
    "    return tau"
   ]
  },
  {
   "cell_type": "markdown",
   "metadata": {},
   "source": [
    "<h2>Compare the Linearized and Full Nonlinear Equations</h2>\n",
    "\n",
    "We linearized the equations of motion to simplify computation time and provide for a model that we can use to control the system. Let's see how closely it performs to the full nonlinear system.\n",
    "\n",
    "We first need to derive the linear and nonlinear systems based on some physical parameters.\n"
   ]
  },
  {
   "cell_type": "markdown",
   "metadata": {},
   "source": [
    "<h3 id=\"Derive-System\">Derive System</h3>"
   ]
  },
  {
   "cell_type": "markdown",
   "metadata": {},
   "source": [
    "<h4 id=\"Define-System-Parameters\">Define System Parameters</h4>"
   ]
  },
  {
   "cell_type": "code",
   "execution_count": 53,
   "metadata": {},
   "outputs": [],
   "source": [
    "# Number of elements\n",
    "n = 5\n",
    "\n",
    "# Total length\n",
    "L = 10 # m\n",
    "\n",
    "# Young's Modulus\n",
    "E = 69e9\n",
    "\n",
    "# Diameter = 1 inch\n",
    "r = 0.0254 / 2\n",
    "\n",
    "# Moment of inertia. Units = m^4\n",
    "I = np.pi * r ** 4 / 4\n",
    "\n",
    "# mass density in kg/m^3\n",
    "rho = 2.71e3\n",
    "\n",
    "M = np.pi * r ** 2 * L * rho\n",
    "\n",
    "# Moment of inertia\n",
    "# I = 1\n",
    "\n",
    "p = [M, L, E, I]"
   ]
  },
  {
   "cell_type": "markdown",
   "metadata": {},
   "source": [
    "<h4 id=\"Create-Nonlinear-and-Linear-System\">Create Linear and Nonlinear System</h4>"
   ]
  },
  {
   "cell_type": "code",
   "execution_count": 54,
   "metadata": {},
   "outputs": [],
   "source": [
    "kane = derive_sys(n,p)\n",
    "funcs = parameterize(n,kane)\n",
    "\n",
    "KM, fr, fr_star, q, u, Torque, F_in, lengths, masses = kane"
   ]
  },
  {
   "cell_type": "code",
   "execution_count": 55,
   "metadata": {},
   "outputs": [
    {
     "data": {
      "text/plain": [
       "[tau0(t), tau1(t), tau2(t), tau3(t), tau4(t)]"
      ]
     },
     "execution_count": 55,
     "metadata": {},
     "output_type": "execute_result"
    }
   ],
   "source": [
    "Torque"
   ]
  },
  {
   "cell_type": "code",
   "execution_count": 56,
   "metadata": {
    "tags": []
   },
   "outputs": [
    {
     "data": {
      "text/plain": [
       "array([[ 0.        ,  0.        ,  0.        ,  0.        ,  0.        ],\n",
       "       [ 0.        ,  0.        ,  0.        ,  0.        ,  0.        ],\n",
       "       [ 0.        ,  0.        ,  0.        ,  0.        ,  0.        ],\n",
       "       [ 0.        ,  0.        ,  0.        ,  0.        ,  0.        ],\n",
       "       [ 0.        ,  0.        ,  0.        ,  0.        ,  0.        ],\n",
       "       [ 0.00301756, -0.37116002, -0.08600049, -0.1629483 , -0.14484294],\n",
       "       [-0.01508781,  0.76344298, -0.11617611,  0.26856294,  0.17803611],\n",
       "       [ 0.05733366, -0.49789759,  0.55070491, -0.3651249 , -0.02112293],\n",
       "       [-0.21424684,  0.13579025, -0.44810783,  0.64575809, -0.0935444 ],\n",
       "       [ 0.79965371, -0.04526342,  0.14936928, -0.57937175,  0.39530051]])"
      ]
     },
     "execution_count": 56,
     "metadata": {},
     "output_type": "execute_result"
    }
   ],
   "source": [
    "A,B = linearize_system(n,kane)\n",
    "B"
   ]
  },
  {
   "cell_type": "markdown",
   "metadata": {},
   "source": [
    "<h3 id=\"Define-Response-Functions\">Define Response Functions</h3>"
   ]
  },
  {
   "cell_type": "code",
   "execution_count": 66,
   "metadata": {},
   "outputs": [],
   "source": [
    "def nonlinear_response(n,args,funcs,control_args):\n",
    "    \"\"\"\n",
    "    Create a response from the nonlinear equations of motion\n",
    "    \n",
    "    Inputs:\n",
    "        n - number of elements\n",
    "        args - response-specific arguments\n",
    "            f_max - maximum force allowed by the actuator\n",
    "            time - time array for the simulation\n",
    "            X0 - initial values for the catheter model\n",
    "            y_desired - desired tip location for the y-coordinate \n",
    "        funcs - nonlinear parameterized functions\n",
    "            mm_func - mass matrix function\n",
    "            fo_func - forcing matrix function\n",
    "        control_args - arguments regarding control\n",
    "            Kp - proportional gain\n",
    "            Kd - derivative gain\n",
    "            use_control - option to use PD control or let the catheter move uncontrolled\n",
    "    \n",
    "    Outputs:\n",
    "        response - integrated equations of motion\n",
    "    \"\"\"\n",
    "    \n",
    "    # Unpack arguments\n",
    "    f_max, time, X0, y_desired,lengths = args\n",
    "    kp,kd,use_control = control_args\n",
    "    mm_func,fo_func = funcs\n",
    "   \n",
    "    # Define the initial conditions\n",
    "    q_i = np.array(X0[0])\n",
    "    u_i = np.array(X0[1])\n",
    "\n",
    "    # initial positions and velocities – assumed to be given in degrees\n",
    "    y0 = np.concatenate([np.tile(q_i,n),np.tile(0,n-1), np.array([u_i])])\n",
    "    \n",
    "    print(y0)\n",
    "    \n",
    "    tau = np.zeros(n)\n",
    "    force_in = np.zeros(1)\n",
    "    \n",
    "    # function which computes the derivatives of parameters\n",
    "    def gradient(x, currtime,t_sys,tau,force_in):\n",
    "        \n",
    "        # Use this option to show a controlled or uncontrolled catheter\n",
    "        if use_control:\n",
    "            \n",
    "            # Get the current x and y coordinates of the catheter\n",
    "            curr_x,curr_y = get_xy_coords(n,x,lengths)\n",
    "            curr_x_dot,curr_y_dot = get_xy_deriv(n,x,lengths)\n",
    "\n",
    "            # Use proportional-Derivative control on the tip y-coordinate\n",
    "            force_in[0] = kp * (y_desired - curr_y[0,-1]) + kd * (0 - curr_y_dot[0,-1])\n",
    "        else:\n",
    "            force_in[0] = 0.\n",
    "        \n",
    "        # Get forces from the external disturbance\n",
    "        tau = get_forces(n,x,lengths,currtime)\n",
    "        \n",
    "        # Solve the equations at this time step\n",
    "        vals = np.concatenate((x, tau , force_in))\n",
    "        \n",
    "        sol = np.linalg.solve(mm_func(*vals), fo_func(*vals))\n",
    "\n",
    "        return np.array(sol).T[0]\n",
    "\n",
    "    return odeint(gradient, y0, time, args=(time,tau, force_in))"
   ]
  },
  {
   "cell_type": "code",
   "execution_count": 91,
   "metadata": {},
   "outputs": [],
   "source": [
    "def linear_response(n,A,B,args,control_args):\n",
    "    \"\"\"\n",
    "    Create a response from the linear equations of motion\n",
    "    \n",
    "    Inputs:\n",
    "        n - number of elements\n",
    "        A - A matrix for the linear equations of motion\n",
    "        B - B matrix for the linear equations of motion\n",
    "        args - response-specific arguments\n",
    "            f_max - maximum force allowed by the actuator\n",
    "            time - time array for the simulation\n",
    "            X0 - initial values for the catheter model\n",
    "            y_desired - desired tip location for the y-coordinate \n",
    "        control_args - arguments regarding control\n",
    "            Kp - proportional gain\n",
    "            Kd - derivative gain\n",
    "            use_control - option to use PD control or let the catheter move uncontrolled\n",
    "    \n",
    "    Outputs:\n",
    "        response - integrated equations of motion\n",
    "    \"\"\"\n",
    "    \n",
    "    # Unpack arguments\n",
    "    f_max, time, X0, y_desired,lengths = args\n",
    "    kp,kd,use_control = control_args\n",
    "\n",
    "    # Create the initial conditions\n",
    "    q_i = np.array(X0[0])\n",
    "    u_i = np.array(X0[1])\n",
    "\n",
    "    # initial positions and velocities – assumed to be given in degrees\n",
    "    y0 = np.concatenate([np.tile(q_i,n),np.tile(0,n-1), np.array([u_i])])\n",
    "    \n",
    "    print(y0)\n",
    "    \n",
    "    force_in = np.zeros(B.shape[1])\n",
    "\n",
    "    # function which computes the derivatives of parameters\n",
    "    def gradient(x, currtime, t_sys):\n",
    "        \n",
    "        tau = np.zeros(n)\n",
    "\n",
    "        # Use this option to show a controlled or uncontrolled catheter\n",
    "        if use_control:\n",
    "            \n",
    "            # Get the current x and y coordinates of the catheter\n",
    "            curr_x,curr_y = get_xy_coords(n,x,lengths)\n",
    "            curr_x_dot,curr_y_dot = get_xy_deriv(n,x,lengths)\n",
    "\n",
    "            # Use proportional-Derivative control on the tip y-coordinate\n",
    "            force_in[0] = kp * (y_desired - curr_y[0,-1]) + kd * (0 - curr_y_dot[0,-1])\n",
    "        else:\n",
    "            force_in[0] = 0.\n",
    "        \n",
    "        # Get torques from the external disturbance\n",
    "        force_in[1:] += get_forces(n,x,lengths,currtime)[1:]\n",
    "        \n",
    "        # apply the external torques to the input vector\n",
    "        #force_in = tau\n",
    "        \n",
    "    \n",
    "        # Solve the equation of motion\n",
    "        sol = np.matmul(A,x) + np.matmul(B,force_in)\n",
    "        \n",
    "        return np.array(sol)\n",
    "\n",
    "    return odeint(gradient, y0, time, args=((time,)))"
   ]
  },
  {
   "cell_type": "markdown",
   "metadata": {},
   "source": [
    "<h3 id=\"Create-Responses\">Create Responses</h3>"
   ]
  },
  {
   "cell_type": "markdown",
   "metadata": {},
   "source": [
    "<h4 id=\"Define-Response-Parameters\">Define Response Parameters</h4>"
   ]
  },
  {
   "cell_type": "code",
   "execution_count": 120,
   "metadata": {},
   "outputs": [],
   "source": [
    "# Initial positions and velocities\n",
    "theta0_z = 0.\n",
    "theta0dot_z = 2\n",
    "\n",
    "X0 = np.array([theta0_z,theta0dot_z])\n",
    "# X0 = np.repeat(X0,n)\n",
    "# Maximum allowable actuator effort\n",
    "force_max = .01\n",
    "\n",
    "# Time information\n",
    "dt = 0.01\n",
    "tmax = 10.\n",
    "time = np.arange(0,tmax,dt)\n",
    "\n",
    "# Desired y-coordinate of the tip\n",
    "y_desired = L/2\n",
    "\n",
    "# Control parameters\n",
    "kp = 10.\n",
    "kd = 5.\n",
    "use_control = False\n",
    "\n",
    "args = [force_max, time, X0, y_desired, lengths]\n",
    "control_args = [kp,kd,use_control]"
   ]
  },
  {
   "cell_type": "code",
   "execution_count": 121,
   "metadata": {},
   "outputs": [
    {
     "data": {
      "text/plain": [
       "array([2., 2., 2., 2., 2.])"
      ]
     },
     "execution_count": 121,
     "metadata": {},
     "output_type": "execute_result"
    }
   ],
   "source": [
    "lengths"
   ]
  },
  {
   "cell_type": "markdown",
   "metadata": {},
   "source": [
    "<h4 id=\"Integrate-Equations-of-Motion\">Integrate Equations of Motion</h4>"
   ]
  },
  {
   "cell_type": "code",
   "execution_count": 122,
   "metadata": {},
   "outputs": [
    {
     "name": "stdout",
     "output_type": "stream",
     "text": [
      "[0. 0. 0. 0. 0. 0. 0. 0. 0. 2.]\n"
     ]
    }
   ],
   "source": [
    "lin_response = linear_response(n,A,B,args,control_args)\n",
    "# nonlin_response = nonlinear_response(n,args,funcs,control_args)"
   ]
  },
  {
   "cell_type": "code",
   "execution_count": 123,
   "metadata": {},
   "outputs": [
    {
     "data": {
      "text/plain": [
       "array([0., 0.])"
      ]
     },
     "execution_count": 123,
     "metadata": {},
     "output_type": "execute_result"
    }
   ],
   "source": [
    "np.array([bob[0] for bob in body_rotation(np.array([[0.0],[0.0]]), np.array([[-1]]))])"
   ]
  },
  {
   "cell_type": "code",
   "execution_count": 124,
   "metadata": {},
   "outputs": [
    {
     "data": {
      "text/plain": [
       "[<matplotlib.lines.Line2D at 0x2442e633130>]"
      ]
     },
     "execution_count": 124,
     "metadata": {},
     "output_type": "execute_result"
    },
    {
     "data": {
      "image/png": "[encoded data removed]",
      "text/plain": [
       "<Figure size 432x288 with 1 Axes>"
      ]
     },
     "metadata": {
      "needs_background": "light"
     },
     "output_type": "display_data"
    }
   ],
   "source": [
    "plt.plot(time,lin_response[:,n-1])\n",
    "plt.plot(time,lin_response[:,n-2])\n",
    "plt.plot(time,lin_response[:,n-3])\n",
    "plt.plot(time,lin_response[:,n-5])"
   ]
  },
  {
   "cell_type": "markdown",
   "metadata": {},
   "source": [
    "<h4 id=\"Extract-Tip-Position\">Extract Tip Positions</h4>"
   ]
  },
  {
   "cell_type": "code",
   "execution_count": 114,
   "metadata": {},
   "outputs": [],
   "source": [
    "# x_nonlin,y_nonlin = get_xy_coords(n,nonlin_response,lengths)\n",
    "x_linear,y_linear = get_xy_coords(n,lin_response,lengths)"
   ]
  },
  {
   "cell_type": "code",
   "execution_count": 115,
   "metadata": {},
   "outputs": [
    {
     "ename": "ValueError",
     "evalue": "x and y must have same first dimension, but have shapes (10000,) and (1000,)",
     "output_type": "error",
     "traceback": [
      "\u001b[1;31m---------------------------------------------------------------------------\u001b[0m",
      "\u001b[1;31mValueError\u001b[0m                                Traceback (most recent call last)",
      "\u001b[1;32m~\\AppData\\Local\\Temp/ipykernel_11220/2770114552.py\u001b[0m in \u001b[0;36m<module>\u001b[1;34m\u001b[0m\n\u001b[1;32m----> 1\u001b[1;33m \u001b[0mplt\u001b[0m\u001b[1;33m.\u001b[0m\u001b[0mplot\u001b[0m\u001b[1;33m(\u001b[0m\u001b[0mtime\u001b[0m\u001b[1;33m,\u001b[0m\u001b[0mnonlin_response\u001b[0m\u001b[1;33m[\u001b[0m\u001b[1;33m:\u001b[0m\u001b[1;33m,\u001b[0m\u001b[0mn\u001b[0m\u001b[1;33m-\u001b[0m\u001b[1;36m1\u001b[0m\u001b[1;33m]\u001b[0m\u001b[1;33m)\u001b[0m\u001b[1;33m\u001b[0m\u001b[1;33m\u001b[0m\u001b[0m\n\u001b[0m\u001b[0;32m      2\u001b[0m \u001b[0mplt\u001b[0m\u001b[1;33m.\u001b[0m\u001b[0mplot\u001b[0m\u001b[1;33m(\u001b[0m\u001b[0mtime\u001b[0m\u001b[1;33m,\u001b[0m\u001b[0mnonlin_response\u001b[0m\u001b[1;33m[\u001b[0m\u001b[1;33m:\u001b[0m\u001b[1;33m,\u001b[0m\u001b[0mn\u001b[0m\u001b[1;33m-\u001b[0m\u001b[1;36m2\u001b[0m\u001b[1;33m]\u001b[0m\u001b[1;33m)\u001b[0m\u001b[1;33m\u001b[0m\u001b[1;33m\u001b[0m\u001b[0m\n",
      "\u001b[1;32mc:\\python\\lib\\site-packages\\matplotlib\\pyplot.py\u001b[0m in \u001b[0;36mplot\u001b[1;34m(scalex, scaley, data, *args, **kwargs)\u001b[0m\n\u001b[0;32m   3017\u001b[0m \u001b[1;33m@\u001b[0m\u001b[0m_copy_docstring_and_deprecators\u001b[0m\u001b[1;33m(\u001b[0m\u001b[0mAxes\u001b[0m\u001b[1;33m.\u001b[0m\u001b[0mplot\u001b[0m\u001b[1;33m)\u001b[0m\u001b[1;33m\u001b[0m\u001b[1;33m\u001b[0m\u001b[0m\n\u001b[0;32m   3018\u001b[0m \u001b[1;32mdef\u001b[0m \u001b[0mplot\u001b[0m\u001b[1;33m(\u001b[0m\u001b[1;33m*\u001b[0m\u001b[0margs\u001b[0m\u001b[1;33m,\u001b[0m \u001b[0mscalex\u001b[0m\u001b[1;33m=\u001b[0m\u001b[1;32mTrue\u001b[0m\u001b[1;33m,\u001b[0m \u001b[0mscaley\u001b[0m\u001b[1;33m=\u001b[0m\u001b[1;32mTrue\u001b[0m\u001b[1;33m,\u001b[0m \u001b[0mdata\u001b[0m\u001b[1;33m=\u001b[0m\u001b[1;32mNone\u001b[0m\u001b[1;33m,\u001b[0m \u001b[1;33m**\u001b[0m\u001b[0mkwargs\u001b[0m\u001b[1;33m)\u001b[0m\u001b[1;33m:\u001b[0m\u001b[1;33m\u001b[0m\u001b[1;33m\u001b[0m\u001b[0m\n\u001b[1;32m-> 3019\u001b[1;33m     return gca().plot(\n\u001b[0m\u001b[0;32m   3020\u001b[0m         \u001b[1;33m*\u001b[0m\u001b[0margs\u001b[0m\u001b[1;33m,\u001b[0m \u001b[0mscalex\u001b[0m\u001b[1;33m=\u001b[0m\u001b[0mscalex\u001b[0m\u001b[1;33m,\u001b[0m \u001b[0mscaley\u001b[0m\u001b[1;33m=\u001b[0m\u001b[0mscaley\u001b[0m\u001b[1;33m,\u001b[0m\u001b[1;33m\u001b[0m\u001b[1;33m\u001b[0m\u001b[0m\n\u001b[0;32m   3021\u001b[0m         **({\"data\": data} if data is not None else {}), **kwargs)\n",
      "\u001b[1;32mc:\\python\\lib\\site-packages\\matplotlib\\axes\\_axes.py\u001b[0m in \u001b[0;36mplot\u001b[1;34m(self, scalex, scaley, data, *args, **kwargs)\u001b[0m\n\u001b[0;32m   1603\u001b[0m         \"\"\"\n\u001b[0;32m   1604\u001b[0m         \u001b[0mkwargs\u001b[0m \u001b[1;33m=\u001b[0m \u001b[0mcbook\u001b[0m\u001b[1;33m.\u001b[0m\u001b[0mnormalize_kwargs\u001b[0m\u001b[1;33m(\u001b[0m\u001b[0mkwargs\u001b[0m\u001b[1;33m,\u001b[0m \u001b[0mmlines\u001b[0m\u001b[1;33m.\u001b[0m\u001b[0mLine2D\u001b[0m\u001b[1;33m)\u001b[0m\u001b[1;33m\u001b[0m\u001b[1;33m\u001b[0m\u001b[0m\n\u001b[1;32m-> 1605\u001b[1;33m         \u001b[0mlines\u001b[0m \u001b[1;33m=\u001b[0m \u001b[1;33m[\u001b[0m\u001b[1;33m*\u001b[0m\u001b[0mself\u001b[0m\u001b[1;33m.\u001b[0m\u001b[0m_get_lines\u001b[0m\u001b[1;33m(\u001b[0m\u001b[1;33m*\u001b[0m\u001b[0margs\u001b[0m\u001b[1;33m,\u001b[0m \u001b[0mdata\u001b[0m\u001b[1;33m=\u001b[0m\u001b[0mdata\u001b[0m\u001b[1;33m,\u001b[0m \u001b[1;33m**\u001b[0m\u001b[0mkwargs\u001b[0m\u001b[1;33m)\u001b[0m\u001b[1;33m]\u001b[0m\u001b[1;33m\u001b[0m\u001b[1;33m\u001b[0m\u001b[0m\n\u001b[0m\u001b[0;32m   1606\u001b[0m         \u001b[1;32mfor\u001b[0m \u001b[0mline\u001b[0m \u001b[1;32min\u001b[0m \u001b[0mlines\u001b[0m\u001b[1;33m:\u001b[0m\u001b[1;33m\u001b[0m\u001b[1;33m\u001b[0m\u001b[0m\n\u001b[0;32m   1607\u001b[0m             \u001b[0mself\u001b[0m\u001b[1;33m.\u001b[0m\u001b[0madd_line\u001b[0m\u001b[1;33m(\u001b[0m\u001b[0mline\u001b[0m\u001b[1;33m)\u001b[0m\u001b[1;33m\u001b[0m\u001b[1;33m\u001b[0m\u001b[0m\n",
      "\u001b[1;32mc:\\python\\lib\\site-packages\\matplotlib\\axes\\_base.py\u001b[0m in \u001b[0;36m__call__\u001b[1;34m(self, data, *args, **kwargs)\u001b[0m\n\u001b[0;32m    313\u001b[0m                 \u001b[0mthis\u001b[0m \u001b[1;33m+=\u001b[0m \u001b[0margs\u001b[0m\u001b[1;33m[\u001b[0m\u001b[1;36m0\u001b[0m\u001b[1;33m]\u001b[0m\u001b[1;33m,\u001b[0m\u001b[1;33m\u001b[0m\u001b[1;33m\u001b[0m\u001b[0m\n\u001b[0;32m    314\u001b[0m                 \u001b[0margs\u001b[0m \u001b[1;33m=\u001b[0m \u001b[0margs\u001b[0m\u001b[1;33m[\u001b[0m\u001b[1;36m1\u001b[0m\u001b[1;33m:\u001b[0m\u001b[1;33m]\u001b[0m\u001b[1;33m\u001b[0m\u001b[1;33m\u001b[0m\u001b[0m\n\u001b[1;32m--> 315\u001b[1;33m             \u001b[1;32myield\u001b[0m \u001b[1;32mfrom\u001b[0m \u001b[0mself\u001b[0m\u001b[1;33m.\u001b[0m\u001b[0m_plot_args\u001b[0m\u001b[1;33m(\u001b[0m\u001b[0mthis\u001b[0m\u001b[1;33m,\u001b[0m \u001b[0mkwargs\u001b[0m\u001b[1;33m)\u001b[0m\u001b[1;33m\u001b[0m\u001b[1;33m\u001b[0m\u001b[0m\n\u001b[0m\u001b[0;32m    316\u001b[0m \u001b[1;33m\u001b[0m\u001b[0m\n\u001b[0;32m    317\u001b[0m     \u001b[1;32mdef\u001b[0m \u001b[0mget_next_color\u001b[0m\u001b[1;33m(\u001b[0m\u001b[0mself\u001b[0m\u001b[1;33m)\u001b[0m\u001b[1;33m:\u001b[0m\u001b[1;33m\u001b[0m\u001b[1;33m\u001b[0m\u001b[0m\n",
      "\u001b[1;32mc:\\python\\lib\\site-packages\\matplotlib\\axes\\_base.py\u001b[0m in \u001b[0;36m_plot_args\u001b[1;34m(self, tup, kwargs, return_kwargs)\u001b[0m\n\u001b[0;32m    499\u001b[0m \u001b[1;33m\u001b[0m\u001b[0m\n\u001b[0;32m    500\u001b[0m         \u001b[1;32mif\u001b[0m \u001b[0mx\u001b[0m\u001b[1;33m.\u001b[0m\u001b[0mshape\u001b[0m\u001b[1;33m[\u001b[0m\u001b[1;36m0\u001b[0m\u001b[1;33m]\u001b[0m \u001b[1;33m!=\u001b[0m \u001b[0my\u001b[0m\u001b[1;33m.\u001b[0m\u001b[0mshape\u001b[0m\u001b[1;33m[\u001b[0m\u001b[1;36m0\u001b[0m\u001b[1;33m]\u001b[0m\u001b[1;33m:\u001b[0m\u001b[1;33m\u001b[0m\u001b[1;33m\u001b[0m\u001b[0m\n\u001b[1;32m--> 501\u001b[1;33m             raise ValueError(f\"x and y must have same first dimension, but \"\n\u001b[0m\u001b[0;32m    502\u001b[0m                              f\"have shapes {x.shape} and {y.shape}\")\n\u001b[0;32m    503\u001b[0m         \u001b[1;32mif\u001b[0m \u001b[0mx\u001b[0m\u001b[1;33m.\u001b[0m\u001b[0mndim\u001b[0m \u001b[1;33m>\u001b[0m \u001b[1;36m2\u001b[0m \u001b[1;32mor\u001b[0m \u001b[0my\u001b[0m\u001b[1;33m.\u001b[0m\u001b[0mndim\u001b[0m \u001b[1;33m>\u001b[0m \u001b[1;36m2\u001b[0m\u001b[1;33m:\u001b[0m\u001b[1;33m\u001b[0m\u001b[1;33m\u001b[0m\u001b[0m\n",
      "\u001b[1;31mValueError\u001b[0m: x and y must have same first dimension, but have shapes (10000,) and (1000,)"
     ]
    },
    {
     "data": {
      "image/png": "[encoded data removed]",
      "text/plain": [
       "<Figure size 432x288 with 1 Axes>"
      ]
     },
     "metadata": {
      "needs_background": "light"
     },
     "output_type": "display_data"
    }
   ],
   "source": [
    "plt.plot(time,nonlin_response[:,n-1])\n",
    "plt.plot(time,nonlin_response[:,n-2])"
   ]
  },
  {
   "cell_type": "code",
   "execution_count": 112,
   "metadata": {},
   "outputs": [
    {
     "ename": "NameError",
     "evalue": "name 'plot' is not defined",
     "output_type": "error",
     "traceback": [
      "\u001b[1;31m---------------------------------------------------------------------------\u001b[0m",
      "\u001b[1;31mNameError\u001b[0m                                 Traceback (most recent call last)",
      "\u001b[1;32m~\\AppData\\Local\\Temp/ipykernel_25344/3924442818.py\u001b[0m in \u001b[0;36m<module>\u001b[1;34m\u001b[0m\n\u001b[1;32m----> 1\u001b[1;33m plot.generate_plot(time,\n\u001b[0m\u001b[0;32m      2\u001b[0m               \u001b[0mnp\u001b[0m\u001b[1;33m.\u001b[0m\u001b[0mvstack\u001b[0m\u001b[1;33m(\u001b[0m\u001b[1;33m(\u001b[0m\u001b[0mlin_response\u001b[0m\u001b[1;33m[\u001b[0m\u001b[1;33m:\u001b[0m\u001b[1;33m,\u001b[0m\u001b[0mn\u001b[0m\u001b[1;33m-\u001b[0m\u001b[1;36m1\u001b[0m\u001b[1;33m]\u001b[0m\u001b[1;33m,\u001b[0m\u001b[0mlin_response\u001b[0m\u001b[1;33m[\u001b[0m\u001b[1;33m:\u001b[0m\u001b[1;33m,\u001b[0m\u001b[0mn\u001b[0m\u001b[1;33m-\u001b[0m\u001b[1;36m2\u001b[0m\u001b[1;33m]\u001b[0m\u001b[1;33m)\u001b[0m\u001b[1;33m)\u001b[0m\u001b[1;33m,\u001b[0m\u001b[1;33m\u001b[0m\u001b[1;33m\u001b[0m\u001b[0m\n\u001b[0;32m      3\u001b[0m               \u001b[1;33m[\u001b[0m\u001b[1;34m'Tip'\u001b[0m\u001b[1;33m,\u001b[0m\u001b[1;34m'n-2'\u001b[0m\u001b[1;33m]\u001b[0m\u001b[1;33m,\u001b[0m\u001b[1;33m\u001b[0m\u001b[1;33m\u001b[0m\u001b[0m\n\u001b[0;32m      4\u001b[0m               \u001b[1;34m'Time (s)'\u001b[0m\u001b[1;33m,\u001b[0m\u001b[1;33m\u001b[0m\u001b[1;33m\u001b[0m\u001b[0m\n\u001b[0;32m      5\u001b[0m               \u001b[1;34mr'Tip $X$ Position (m)'\u001b[0m\u001b[1;33m,\u001b[0m\u001b[1;33m\u001b[0m\u001b[1;33m\u001b[0m\u001b[0m\n",
      "\u001b[1;31mNameError\u001b[0m: name 'plot' is not defined"
     ]
    }
   ],
   "source": [
    "plot.generate_plot(time,\n",
    "              np.vstack((lin_response[:,n-1],lin_response[:,n-2])),\n",
    "              ['Tip','n-2'],\n",
    "              'Time (s)',\n",
    "              r'Tip $X$ Position (m)',\n",
    "              filename='Tip-X-Coord',\n",
    "              folder='../../manuscript/Figures/Create-Model/Compare-Lin-vs-Nonlin/',\n",
    "              num_col=1,legend_loc='best',ymax=0.1,ymin=0.01,save_plot=True,\n",
    "              showplot=True)"
   ]
  },
  {
   "cell_type": "markdown",
   "metadata": {},
   "source": [
    "<h3 id=\"Plot-Results\">Plot Results</h3>"
   ]
  },
  {
   "cell_type": "code",
   "execution_count": 113,
   "metadata": {
    "scrolled": true
   },
   "outputs": [
    {
     "ename": "NameError",
     "evalue": "name 'plot' is not defined",
     "output_type": "error",
     "traceback": [
      "\u001b[1;31m---------------------------------------------------------------------------\u001b[0m",
      "\u001b[1;31mNameError\u001b[0m                                 Traceback (most recent call last)",
      "\u001b[1;32m~\\AppData\\Local\\Temp/ipykernel_25344/3591698248.py\u001b[0m in \u001b[0;36m<module>\u001b[1;34m\u001b[0m\n\u001b[1;32m----> 1\u001b[1;33m plot.generate_plot(time,\n\u001b[0m\u001b[0;32m      2\u001b[0m               \u001b[0mnp\u001b[0m\u001b[1;33m.\u001b[0m\u001b[0mvstack\u001b[0m\u001b[1;33m(\u001b[0m\u001b[1;33m(\u001b[0m\u001b[0mx_nonlin\u001b[0m\u001b[1;33m[\u001b[0m\u001b[1;33m:\u001b[0m\u001b[1;33m,\u001b[0m\u001b[1;33m-\u001b[0m\u001b[1;36m1\u001b[0m\u001b[1;33m]\u001b[0m\u001b[1;33m,\u001b[0m\u001b[0mx_linear\u001b[0m\u001b[1;33m[\u001b[0m\u001b[1;33m:\u001b[0m\u001b[1;33m,\u001b[0m\u001b[1;33m-\u001b[0m\u001b[1;36m1\u001b[0m\u001b[1;33m]\u001b[0m\u001b[1;33m)\u001b[0m\u001b[1;33m)\u001b[0m\u001b[1;33m,\u001b[0m\u001b[1;33m\u001b[0m\u001b[1;33m\u001b[0m\u001b[0m\n\u001b[0;32m      3\u001b[0m               \u001b[1;33m[\u001b[0m\u001b[1;34m'Nonlinear'\u001b[0m\u001b[1;33m,\u001b[0m\u001b[1;34m'Linear'\u001b[0m\u001b[1;33m]\u001b[0m\u001b[1;33m,\u001b[0m\u001b[1;33m\u001b[0m\u001b[1;33m\u001b[0m\u001b[0m\n\u001b[0;32m      4\u001b[0m               \u001b[1;34m'Time (s)'\u001b[0m\u001b[1;33m,\u001b[0m\u001b[1;33m\u001b[0m\u001b[1;33m\u001b[0m\u001b[0m\n\u001b[0;32m      5\u001b[0m               \u001b[1;34mr'Tip $X$ Position (m)'\u001b[0m\u001b[1;33m,\u001b[0m\u001b[1;33m\u001b[0m\u001b[1;33m\u001b[0m\u001b[0m\n",
      "\u001b[1;31mNameError\u001b[0m: name 'plot' is not defined"
     ]
    }
   ],
   "source": [
    "plot.generate_plot(time,\n",
    "              np.vstack((x_nonlin[:,-1],x_linear[:,-1])),\n",
    "              ['Nonlinear','Linear'],\n",
    "              'Time (s)',\n",
    "              r'Tip $X$ Position (m)',\n",
    "              filename='Tip-X-Coord',\n",
    "              folder='../../manuscript/Figures/Create-Model/Compare-Lin-vs-Nonlin/',\n",
    "              num_col=1,legend_loc='best',ymax=0.1,ymin=0.01,save_plot=True,\n",
    "              showplot=True)"
   ]
  },
  {
   "cell_type": "code",
   "execution_count": 18,
   "metadata": {},
   "outputs": [
    {
     "data": {
      "image/png": "[encoded data removed]",
      "text/plain": [
       "<Figure size 432x288 with 1 Axes>"
      ]
     },
     "metadata": {},
     "output_type": "display_data"
    }
   ],
   "source": [
    "plot.generate_plot(time,\n",
    "              np.vstack((y_nonlin[:,-1],y_linear[:,-1])),\n",
    "              ['Nonlinear','Linear'],\n",
    "              'Time (s)',\n",
    "              r'Tip $Y$ Position (m)',\n",
    "              filename='Tip-Y-Coord',\n",
    "              folder='../../manuscript/Figures/Create-Model/Compare-Lin-vs-Nonlin/',\n",
    "              num_col=1,legend_loc='best',ymax=0.1,ymin=0.01,save_plot=True,\n",
    "              showplot=True)"
   ]
  },
  {
   "cell_type": "code",
   "execution_count": 116,
   "metadata": {},
   "outputs": [],
   "source": [
    "x = x_linear\n",
    "y = y_linear"
   ]
  },
  {
   "cell_type": "markdown",
   "metadata": {},
   "source": [
    "<h3 id=\"Animate-the-Results\">Animate the Results</h3>"
   ]
  },
  {
   "cell_type": "code",
   "execution_count": 117,
   "metadata": {},
   "outputs": [],
   "source": [
    "%%capture\n",
    "fps = int(np.round(1 / dt))\n",
    "\n",
    "FFMpegWriter = writers['ffmpeg']\n",
    "\n",
    "def update_lines(num, x,y, lines):\n",
    "    lines.set_data(x[num],y[num])\n",
    "    return lines\n",
    "\n",
    "# Attaching 3D axis to the figure\n",
    "fig = plt.figure()\n",
    "ax = plt.gca()\n",
    "\n",
    "lines, = ax.plot([], [], 'o-', lw=2)\n",
    "\n",
    "plt.axes().set_aspect('equal')\n",
    "#data = np.array([x,y])\n",
    "\n",
    "# Setting the axes properties\n",
    "ax.set_xlim([-L, L])\n",
    "ax.set_xlabel('X (m)')\n",
    "\n",
    "ax.set_ylim([-L, L])\n",
    "ax.set_ylabel('Y (m)')\n"
   ]
  },
  {
   "cell_type": "code",
   "execution_count": 118,
   "metadata": {},
   "outputs": [],
   "source": [
    "ax.set_title('Nonlinear Response')\n",
    "\n",
    "# Create the animation\n",
    "anim_nonlinear = animation.FuncAnimation(\n",
    "                    fig, # Use the predefined figure\n",
    "                    update_lines, # Call the update function\n",
    "                    frames=fps * int(np.amax(time)), # Use a number of frames based on the framerate and length of the time array\n",
    "                    interval=fps,\n",
    "                    fargs = (x_linear,y_linear,lines),\n",
    "                    blit=False)\n",
    "\n",
    "# We can also add some metadata to the video.\n",
    "metadata = dict(title='Catheter Model Animation', artist='Daniel Newman',\n",
    "                comment='Shows a controlled catheter model in periodic flow.')\n",
    "\n",
    "# Change the video bitrate as you like and add some metadata.\n",
    "writer = FFMpegWriter(codec=\"h264\", fps=fps, bitrate=-1, metadata=metadata)\n",
    "\n",
    "anim_nonlinear.save(\n",
    "    'animation-nonlinear.mp4', # Set the file name\n",
    "    dpi=240,          # Bump up to 4K resolution 3840x2160\n",
    "    writer=writer,\n",
    "    savefig_kwargs={\n",
    "                'transparent': False, # h264 doesn't seem to like transparency \n",
    "                'facecolor': 'none'})"
   ]
  },
  {
   "cell_type": "code",
   "execution_count": 119,
   "metadata": {},
   "outputs": [
    {
     "data": {
      "text/html": [
       "\n",
       "<div align=\"middle\">\n",
       "<video width=\"100%\" controls>\n",
       "      <source src=\"animation-nonlinear.mp4\" type=\"video/mp4\">\n",
       "</video></div>"
      ],
      "text/plain": [
       "<IPython.core.display.HTML object>"
      ]
     },
     "execution_count": 119,
     "metadata": {},
     "output_type": "execute_result"
    }
   ],
   "source": [
    "HTML(\"\"\"\n",
    "<div align=\"middle\">\n",
    "<video width=\"100%\" controls>\n",
    "      <source src=\"animation-nonlinear.mp4\" type=\"video/mp4\">\n",
    "</video></div>\"\"\")"
   ]
  },
  {
   "cell_type": "code",
   "execution_count": 117,
   "metadata": {},
   "outputs": [],
   "source": [
    "ax.set_title('Linear Response')\n",
    "\n",
    "\n",
    "# Create the animation\n",
    "anim_linear = animation.FuncAnimation(\n",
    "                    fig, # Use the predefined figure\n",
    "                    update_lines, # Call the update function\n",
    "                    frames=fps * int(np.amax(time)), # Use a number of frames based on the framerate and length of the time array\n",
    "                    interval=fps,\n",
    "                    fargs = (x_linear,y_linear,lines),\n",
    "                    blit=False)\n",
    "\n",
    "# We can also add some metadata to the video.\n",
    "metadata = dict(title='Catheter Model Animation', artist='Daniel Newman',\n",
    "                comment='Shows a controlled catheter model in periodic flow.')\n",
    "\n",
    "# Change the video bitrate as you like and add some metadata.\n",
    "writer = FFMpegWriter(codec=\"h264\", fps=fps, bitrate=-1, metadata=metadata)\n",
    "\n",
    "anim_linear.save(\n",
    "    'animation-linear.mp4', # Set the file name\n",
    "    dpi=240,          # Bump up to 4K resolution 3840x2160\n",
    "    writer=writer,\n",
    "    savefig_kwargs={\n",
    "                'transparent': False, # h264 doesn't seem to like transparency \n",
    "                'facecolor': 'none'})"
   ]
  },
  {
   "cell_type": "code",
   "execution_count": 118,
   "metadata": {},
   "outputs": [
    {
     "data": {
      "text/html": [
       "\n",
       "<div align=\"middle\">\n",
       "<video width=\"80%\" controls>\n",
       "      <source src=\"animation-linear.mp4\" type=\"video/mp4\">\n",
       "</video></div>"
      ],
      "text/plain": [
       "<IPython.core.display.HTML object>"
      ]
     },
     "execution_count": 118,
     "metadata": {},
     "output_type": "execute_result"
    }
   ],
   "source": [
    "HTML(\"\"\"\n",
    "<div align=\"middle\">\n",
    "<video width=\"80%\" controls>\n",
    "      <source src=\"animation-linear.mp4\" type=\"video/mp4\">\n",
    "</video></div>\"\"\")"
   ]
  },
  {
   "cell_type": "markdown",
   "metadata": {},
   "source": [
    "<h2 id=\"Conclusion\">Conclusion</h2>\n",
    "\n",
    "<p>In this notebook, we analyzed and derived the equations of motion for a catheter and compared the linear and nonlinear models. As demonstrated, the linearized model performed very similarly to the full nonlinear equations. In future work, we will look exclusively at the linearized model.</p>"
   ]
  },
  {
   "cell_type": "code",
   "execution_count": 3,
   "metadata": {},
   "outputs": [
    {
     "data": {
      "text/html": [
       "<script>\n",
       "    MathJax.Hub.Config({\n",
       "                        TeX: {\n",
       "                           extensions: [\"AMSmath.js\"],\n",
       "                           equationNumbers: { autoNumber: \"AMS\" }\n",
       "                           },\n",
       "                tex2jax: {\n",
       "                    inlineMath: [ ['$','$'], [\"\\\\(\",\"\\\\)\"] ],\n",
       "                    displayMath: [ ['$$','$$'], [\"\\\\[\",\"\\\\]\"] ]\n",
       "                },\n",
       "                displayAlign: 'center', // Change this to 'center' to center equations.\n",
       "                \"HTML-CSS\": {\n",
       "                    styles: {'.MathJax_Display': {\"margin\": 4}}\n",
       "                }\n",
       "        });\n",
       "</script>\n",
       "\n",
       "<style>\n",
       "    @font-face {\n",
       "        font-family: \"Computer Modern\";\n",
       "        src: url('http://mirrors.ctan.org/fonts/cm-unicode/fonts/otf/cmunss.otf');\n",
       "    }\n",
       "    @font-face {\n",
       "        font-family: \"Computer Modern\";\n",
       "        src: url('http://mirrors.ctan.org/fonts/cm-unicode/fonts/otf/cmunsx.otf');\n",
       "        font-weight: bold;\n",
       "    }\n",
       "    @font-face {\n",
       "        font-family: \"Computer Modern\";\n",
       "        src: url('http://mirrors.ctan.org/fonts/cm-unicode/fonts/otf/cmunsi.otf');\n",
       "        font-style: oblique;\n",
       "    }\n",
       "    @font-face {\n",
       "        font-family: \"Computer Modern\";\n",
       "        src: url('http://mirrors.ctan.org/fonts/cm-unicode/fonts/otf/cmunso.otf');\n",
       "        font-weight: bold;\n",
       "        font-style: oblique;\n",
       "    }\n",
       "\n",
       "    div.cell {\n",
       "        max-width: 1100px;\n",
       "    }\n",
       "\n",
       "    h1,h2,h3,h4,p {\n",
       "        font-family: Computer Modern;\n",
       "    }\n",
       "    \n",
       "    h4 {\n",
       "        margin-top: 12px;\n",
       "        margin-bottom: 3px;\n",
       "    }\n",
       "\n",
       "    div.text_cell_render {\n",
       "        font-family: Computer Modern, \"Helvetica Neue\", Arial, Helvetica, Geneva, sans-serif;\n",
       "        line-height: 145%;\n",
       "        font-size: 130%;\n",
       "        width: 100%;\n",
       "        max-width: 1100px;\n",
       "    }\n",
       "    p {\n",
       "        font-family: Computer Modern, \"Helvetica Neue\", Arial, Helvetica, Geneva, sans-serif;\n",
       "        line-height: 145%;\n",
       "        font-size: 130%;\n",
       "        width: 100%;\n",
       "        max-width: 1100px;\n",
       "    }    \n",
       "    .CodeMirror {\n",
       "        font-family: \"Source Code Pro\", source-code-pro, Consolas, monospace;\n",
       "    }\n",
       "    \n",
       "    .warning {\n",
       "        color: rgb( 240, 20, 20 )\n",
       "    }  \n",
       "  \n",
       "   \n",
       "    hr.style-end {\n",
       "        border: 0px !important;\n",
       "        height: 1px !important;\n",
       "        text-align: center !important;\n",
       "        background: #333 !important;\n",
       "        background-image: -webkit-linear-gradient(left, #ccc, #333, #ccc) !important; \n",
       "        background-image:    -moz-linear-gradient(left, #ccc, #333, #ccc) !important; \n",
       "        background-image:     -ms-linear-gradient(left, #ccc, #333, #ccc) !important; \n",
       "        background-image:      -o-linear-gradient(left, #ccc, #333, #ccc) !important; \n",
       "    }\n",
       "\n",
       "    hr.style-end:after {\n",
       "        content: &#x269C !important;\n",
       "        left: 50% !important;\n",
       "        position: absolute !important;\n",
       "        /* Controls the whitespace around the symbol */\n",
       "        padding: 0px !important;\n",
       "        background: #fff !important;\n",
       "    }\n",
       "    .output_png {\n",
       "        display: table-cell;\n",
       "        text-align: center;\n",
       "        vertical-align: middle;\n",
       "    }\n",
       "    .ui-wrapper {\n",
       "        margin-left: auto !important;\n",
       "        margin-right: auto !important;\n",
       "    }    \n",
       "/*  Center figures, etc\n",
       "\n",
       "*/\n",
       "    \n",
       "</style>\n"
      ],
      "text/plain": [
       "<IPython.core.display.HTML object>"
      ]
     },
     "execution_count": 3,
     "metadata": {},
     "output_type": "execute_result"
    }
   ],
   "source": [
    "# This cell will just improve the styling of the notebook\n",
    "from IPython.display import Image \n",
    "import urllib.request\n",
    "response = urllib.request.urlopen(\"https://raw.githubusercontent.com/danielnewman09/Thesis-Notebooks/master/Styling/IpythonNotebook.css\")\n",
    "HTML(response.read().decode(\"utf-8\"))"
   ]
  },
  {
   "cell_type": "code",
   "execution_count": null,
   "metadata": {},
   "outputs": [],
   "source": []
  }
 ],
 "metadata": {
  "kernelspec": {
   "display_name": "Python 3 (ipykernel)",
   "language": "python",
   "name": "python3"
  },
  "language_info": {
   "codemirror_mode": {
    "name": "ipython",
    "version": 3
   },
   "file_extension": ".py",
   "mimetype": "text/x-python",
   "name": "python",
   "nbconvert_exporter": "python",
   "pygments_lexer": "ipython3",
   "version": "3.9.6"
  },
  "toc": {
   "base_numbering": 1,
   "nav_menu": {
    "height": "201px",
    "width": "160px"
   },
   "number_sections": true,
   "sideBar": true,
   "skip_h1_title": true,
   "title_cell": "Table of Contents",
   "title_sidebar": "Contents",
   "toc_cell": false,
   "toc_position": {
    "height": "calc(100% - 180px)",
    "left": "10px",
    "top": "150px",
    "width": "165px"
   },
   "toc_section_display": true,
   "toc_window_display": true
  }
 },
 "nbformat": 4,
 "nbformat_minor": 4
}
